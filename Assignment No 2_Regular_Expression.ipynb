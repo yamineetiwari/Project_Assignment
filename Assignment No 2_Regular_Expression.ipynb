{
 "cells": [
  {
   "cell_type": "code",
   "execution_count": 31,
   "id": "a733462e",
   "metadata": {},
   "outputs": [],
   "source": [
    "import pandas as pd\n",
    "import re\n",
    "import requests"
   ]
  },
  {
   "cell_type": "markdown",
   "id": "1437f76c",
   "metadata": {},
   "source": [
    "# Question 1- Write a Python program to replace all occurrences of a space, comma, or dot with a colon\n",
    "Sample Text- 'Python Exercises, PHP exercises.'"
   ]
  },
  {
   "cell_type": "code",
   "execution_count": 2,
   "id": "01a72043",
   "metadata": {},
   "outputs": [
    {
     "name": "stdout",
     "output_type": "stream",
     "text": [
      "Python:Exercises::PHP:exercises:\n"
     ]
    }
   ],
   "source": [
    "sample_text='Python Exercises, PHP exercises.'\n",
    "new_text=re.sub('[\\s,.]',':',sample_text)\n",
    "print(new_text)"
   ]
  },
  {
   "cell_type": "markdown",
   "id": "1b3af548",
   "metadata": {},
   "source": [
    "# Question 2-  Create a dataframe using the dictionary below and remove everything (commas (,), !, XXXX, ;, etc.)from the columns except words.\n",
    "Dictionary- {'SUMMARY' : ['hello, world!', 'XXXXX test', '123four, five:; six...']}"
   ]
  },
  {
   "cell_type": "code",
   "execution_count": 6,
   "id": "f9fa7a4c",
   "metadata": {},
   "outputs": [
    {
     "name": "stdout",
     "output_type": "stream",
     "text": [
      "                  SUMMARY\n",
      "0           hello  world \n",
      "1                    test\n",
      "2     four  five   six   \n"
     ]
    }
   ],
   "source": [
    "Dictionary={'SUMMARY' : ['hello, world!', 'XXXXX test', '123four, five:; six...']}\n",
    "dataframe=pd.DataFrame(Dictionary) \n",
    "for index,row in dataframe.iterrows():\n",
    "    dataframe.at[index,'SUMMARY']= re.sub('[\\s\\d.,;:!XXXX]',' ',row['SUMMARY'])\n",
    "print(dataframe)"
   ]
  },
  {
   "cell_type": "markdown",
   "id": "3340b2ba",
   "metadata": {},
   "source": [
    "# Question 3- Create a function in python to find all words that are at least 4 characters long in a string.The use of the re.compile() method is mandatory."
   ]
  },
  {
   "cell_type": "code",
   "execution_count": 7,
   "id": "42dfda84",
   "metadata": {},
   "outputs": [
    {
     "name": "stdout",
     "output_type": "stream",
     "text": [
      "['retrieving', 'words', 'that', 'contain', 'least', 'four', 'characters']\n"
     ]
    }
   ],
   "source": [
    "def fun_for_input(input_str):\n",
    "    pattern=re.compile(r'\\b\\w{4,}\\b')\n",
    "    find_str=pattern.findall(input_str)\n",
    "    return find_str\n",
    "output_str=fun_for_input(\"Now we are retrieving words that contain at least four characters\")\n",
    "print(output_str)\n",
    "    "
   ]
  },
  {
   "cell_type": "markdown",
   "id": "c1a9c88a",
   "metadata": {},
   "source": [
    "# Question 4- Create a function in python to find all three, four, and five character words in a string. The use of the re.compile() method is mandatory"
   ]
  },
  {
   "cell_type": "code",
   "execution_count": 8,
   "id": "9fb2b18a",
   "metadata": {},
   "outputs": [
    {
     "name": "stdout",
     "output_type": "stream",
     "text": [
      "['Now', 'are', 'words', 'that', 'all', 'three', 'four', 'five']\n"
     ]
    }
   ],
   "source": [
    "pattern3=re.compile(r'\\b\\w{3,5}\\b')\n",
    "find_str3=lambda input_str3:pattern3.findall(input_str3)\n",
    "output_str=find_str3(\"Now we are retrieving words that contain all three,four,five characters\")\n",
    "print(output_str)"
   ]
  },
  {
   "cell_type": "markdown",
   "id": "d3126d69",
   "metadata": {},
   "source": [
    "# Question 5- Create a function in Python to remove the parenthesis in a list of strings. The use of the re.compile() method is mandatory.\n",
    "Sample Text: [\"example (.com)\", \"hr@fliprobo (.com)\", \"github (.com)\", \"Hello (Data Science World)\", \"Data (Scientist)\"]"
   ]
  },
  {
   "cell_type": "code",
   "execution_count": 9,
   "id": "03dbb6f2",
   "metadata": {},
   "outputs": [
    {
     "name": "stdout",
     "output_type": "stream",
     "text": [
      "example .com\n",
      "hr@fliprobo .com\n",
      "github .com\n",
      "Hello Data Science World\n",
      "Data Scientist\n"
     ]
    }
   ],
   "source": [
    "sample_text2 = [\"example (.com)\", \"hr@fliprobo (.com)\", \"github (.com)\", \"Hello (Data Science World)\", \"Data (Scientist)\"]\n",
    "pattern = re.compile('[()]')\n",
    "\n",
    "find_str = lambda i: pattern.sub('', i)\n",
    "\n",
    "for i in sample_text2:\n",
    "    output_str = find_str(i)\n",
    "    print(output_str)"
   ]
  },
  {
   "cell_type": "markdown",
   "id": "7e1df5dc",
   "metadata": {},
   "source": [
    "# Question 6- Write a python program to remove the parenthes is area from the text stored in the text file using Regular Expression.\n",
    "Sample Text: [\"example (.com)\", \"hr@fliprobo (.com)\", \"github (.com)\", \"Hello (Data Science World)\", \"Data (Scientist)\"]\n",
    "\n",
    "Expected Output: [\"example\", \"hr@fliprobo\", \"github\", \"Hello\", \"Data\"]\n",
    "\n",
    "Note- Store given sample text in the text file and then to remove the parenthesis area from the text.\n"
   ]
  },
  {
   "cell_type": "code",
   "execution_count": 33,
   "id": "bed235c9",
   "metadata": {},
   "outputs": [
    {
     "name": "stdout",
     "output_type": "stream",
     "text": [
      "[\"example\", \"hr@fliprobo\", \"github\", \"Hello\", \"Data\"]\n"
     ]
    }
   ],
   "source": [
    "with open('E:\\Yaminee Tiwari\\\\text_file1.txt', 'r') as sample_file:\n",
    "    text = sample_file.read()\n",
    "pattern=re.compile(r'\\s*\\(.*?\\)')  \n",
    "output_text=pattern.sub('',text)\n",
    "print(output_text)"
   ]
  },
  {
   "cell_type": "markdown",
   "id": "5afc831e",
   "metadata": {},
   "source": [
    "# Question 7- Write a regular expression in Python to split a string into uppercase letters.\n",
    "Sample text: “ImportanceOfRegularExpressionsInPython”\n",
    "\n",
    "Expected Output: [‘Importance’, ‘Of’, ‘Regular’, ‘Expression’, ‘In’, ‘Python’]\n"
   ]
  },
  {
   "cell_type": "code",
   "execution_count": 8,
   "id": "4fb87429",
   "metadata": {},
   "outputs": [
    {
     "name": "stdout",
     "output_type": "stream",
     "text": [
      "['Importance', 'Of', 'Regular', 'Expressions', 'In', 'Python']\n"
     ]
    }
   ],
   "source": [
    "sample_text= \"ImportanceOfRegularExpressionsInPython\"\n",
    "pattern=re.compile('[A-Z][^A-Z]*')\n",
    "output=re.findall(pattern,sample_text)\n",
    "print(output)"
   ]
  },
  {
   "cell_type": "markdown",
   "id": "3d68edc6",
   "metadata": {},
   "source": [
    "# Question 8- Create a function in python to insert spaces between words starting with numbers.\n",
    "\n",
    "Sample Text: “RegularExpression1IsAn2ImportantTopic3InPython\"\n",
    "\n",
    "Expected Output: RegularExpression 1IsAn 2ImportantTopic 3InPython\n"
   ]
  },
  {
   "cell_type": "code",
   "execution_count": 95,
   "id": "41ed25a6",
   "metadata": {},
   "outputs": [
    {
     "name": "stdout",
     "output_type": "stream",
     "text": [
      "RegularExpression 1IsAn 2ImportantTopic 3InPython\n"
     ]
    }
   ],
   "source": [
    "def fun_space(input1):\n",
    "    output =re.sub('([0-9])', r' \\1', input1)\n",
    "    return output\n",
    "\n",
    "sample_text = \"RegularExpression1IsAn2ImportantTopic3InPython\"\n",
    "output_text = fun_space(sample_text)\n",
    "print(output_text)"
   ]
  },
  {
   "cell_type": "markdown",
   "id": "1c94ba3d",
   "metadata": {},
   "source": [
    "# Question 9- Create a function in python to insert spaces between words starting with capital letters or with numbers.\n",
    "Sample Text: “RegularExpression1IsAn2ImportantTopic3InPython\"\n",
    "\n",
    "Expected Output:  RegularExpression 1 IsAn 2 ImportantTopic 3 InPython\n"
   ]
  },
  {
   "cell_type": "code",
   "execution_count": 112,
   "id": "9b2494db",
   "metadata": {},
   "outputs": [
    {
     "name": "stdout",
     "output_type": "stream",
     "text": [
      "RegularExpression 1 IsAn 2 ImportantTopic 3 InPython\n"
     ]
    }
   ],
   "source": [
    "sample_Text=\"RegularExpression1IsAn2ImportantTopic3InPython\"\n",
    "print(re.sub('([0-9])([A-Z])+',r' \\1 \\2',sample_text))"
   ]
  },
  {
   "cell_type": "markdown",
   "id": "1e490287",
   "metadata": {},
   "source": [
    "# Question 10- Use the github link below to read the data and create a dataframe. After creating the dataframe extract the first 6 letters of each country and store in the dataframe under a new column called first_five_letters.\n",
    "\n",
    "Github Link-  https://raw.githubusercontent.com/dsrscientist/DSData/master/happiness_score_dataset.csv\n"
   ]
  },
  {
   "cell_type": "code",
   "execution_count": 38,
   "id": "abff45d4",
   "metadata": {},
   "outputs": [
    {
     "name": "stdout",
     "output_type": "stream",
     "text": [
      "       Country          Region  Happiness Rank  Happiness Score  \\\n",
      "0  Switzerland  Western Europe               1            7.587   \n",
      "1      Iceland  Western Europe               2            7.561   \n",
      "2      Denmark  Western Europe               3            7.527   \n",
      "3       Norway  Western Europe               4            7.522   \n",
      "4       Canada   North America               5            7.427   \n",
      "\n",
      "   Standard Error  Economy (GDP per Capita)   Family  \\\n",
      "0         0.03411                   1.39651  1.34951   \n",
      "1         0.04884                   1.30232  1.40223   \n",
      "2         0.03328                   1.32548  1.36058   \n",
      "3         0.03880                   1.45900  1.33095   \n",
      "4         0.03553                   1.32629  1.32261   \n",
      "\n",
      "   Health (Life Expectancy)  Freedom  Trust (Government Corruption)  \\\n",
      "0                   0.94143  0.66557                        0.41978   \n",
      "1                   0.94784  0.62877                        0.14145   \n",
      "2                   0.87464  0.64938                        0.48357   \n",
      "3                   0.88521  0.66973                        0.36503   \n",
      "4                   0.90563  0.63297                        0.32957   \n",
      "\n",
      "   Generosity  Dystopia Residual first_five_letters  \n",
      "0     0.29678            2.51738             Switze  \n",
      "1     0.43630            2.70201             Icelan  \n",
      "2     0.34139            2.49204             Denmar  \n",
      "3     0.34699            2.46531             Norway  \n",
      "4     0.45811            2.45176             Canada  \n"
     ]
    }
   ],
   "source": [
    "github_link= \"https://raw.githubusercontent.com/dsrscientist/DSData/master/happiness_score_dataset.csv\"\n",
    "response = requests.get(github_link)\n",
    "if response.status_code == 200:\n",
    "    df = pd.read_csv(github_link)\n",
    "    df['first_five_letters'] = df['Country'].apply(lambda x: re.match(r'^(\\w{1,6})', x).group(1))\n",
    "    print(df.head())"
   ]
  },
  {
   "cell_type": "markdown",
   "id": "e0116911",
   "metadata": {},
   "source": [
    "# Question 11- Write a Python program to match a string that contains only upper and lowercase letters, numbers, and underscores."
   ]
  },
  {
   "cell_type": "code",
   "execution_count": 120,
   "id": "7ae42344",
   "metadata": {},
   "outputs": [
    {
     "name": "stdout",
     "output_type": "stream",
     "text": [
      "15422heya: Matches pattern\n",
      "Welcome_562: Matches pattern\n",
      "inValid stRing: Matches pattern\n",
      " spaces checking: Does not match pattern\n",
      "All: Matches pattern\n"
     ]
    }
   ],
   "source": [
    "pattern = re.compile(r'^[a-zA-Z0-9_]+')\n",
    "input_text = [\"15422heya\", \"Welcome_562\", \"inValid stRing\", \" spaces checking\",\"All\"]\n",
    "\n",
    "for text in input_text:\n",
    "    if pattern.match(text):\n",
    "        print(f\"{text}: Matches pattern\")\n",
    "    else:\n",
    "        print(f\"{text}: Does not match pattern\")"
   ]
  },
  {
   "cell_type": "markdown",
   "id": "df6045e5",
   "metadata": {},
   "source": [
    "# Question 12- Write a Python program where a string will start with a specific number. "
   ]
  },
  {
   "cell_type": "code",
   "execution_count": 125,
   "id": "18ad68fb",
   "metadata": {},
   "outputs": [
    {
     "name": "stdout",
     "output_type": "stream",
     "text": [
      "15422heya:=> start with specific number\n",
      "Welcome_562:=> not start with specific number\n",
      "inValid stRing:=> not start with specific number\n",
      " spaces checking:=> not start with specific number\n",
      "All:=> not start with specific number\n"
     ]
    }
   ],
   "source": [
    "pattern = re.compile(r'^[0-9_]+')\n",
    "input_text = [\"15422heya\", \"Welcome_562\", \"inValid stRing\", \" spaces checking\",\"All\"]\n",
    "\n",
    "for text in input_text:\n",
    "    if pattern.match(text):\n",
    "        print(f\"{text}:=> start with specific number\")\n",
    "    else:\n",
    "        print(f\"{text}:=> not start with specific number\")"
   ]
  },
  {
   "cell_type": "markdown",
   "id": "f9670724",
   "metadata": {},
   "source": [
    "# Question 13- Write a Python program to remove leading zeros from an IP address"
   ]
  },
  {
   "cell_type": "code",
   "execution_count": 133,
   "id": "a5d276c4",
   "metadata": {},
   "outputs": [
    {
     "name": "stdout",
     "output_type": "stream",
     "text": [
      "Original IP Address=> 192.168.001.001\n",
      "Removing Zeros IP Address=> 192.168.1.1\n",
      "Original IP Address=> 010.000.010.101\n",
      "Removing Zeros IP Address=> 10.0.10.101\n",
      "Original IP Address=> 000.700.050.000\n",
      "Removing Zeros IP Address=> 0.700.50.0\n",
      "Original IP Address=> 255.000.163.008\n",
      "Removing Zeros IP Address=> 255.0.163.8\n"
     ]
    }
   ],
   "source": [
    "pattern = re.compile(r'\\b0+(\\d+)\\b')\n",
    "input_text = [\"192.168.001.001\",\n",
    "    \"010.000.010.101\",\n",
    "    \"000.700.050.000\",\n",
    "    \"255.000.163.008\"]\n",
    "for i in input_text:\n",
    "    print(\"Original IP Address=>\",i)\n",
    "    result = pattern.sub(r'\\1',i)\n",
    "    print(\"Removing Zeros IP Address=>\",result)"
   ]
  },
  {
   "cell_type": "markdown",
   "id": "c36b8cc7",
   "metadata": {},
   "source": [
    "# Question 14- Write a regular expression in python to match a date string in the form of Month name followed by day number and year stored in a text file.\n",
    "\n",
    "Sample text :  ' On August 15th 1947 that India was declared independent from British colonialism, and the reins of control were handed over to the leaders of the Country’.\n",
    "\n",
    "Expected Output- August 15th 1947\n",
    "\n",
    "Note- Store given sample text in the text file and then extract the date string asked format."
   ]
  },
  {
   "cell_type": "code",
   "execution_count": 13,
   "id": "58eccd6b",
   "metadata": {},
   "outputs": [
    {
     "name": "stdout",
     "output_type": "stream",
     "text": [
      "Expected Output- August 15th 1947\n"
     ]
    }
   ],
   "source": [
    "var1=open('E:\\Yaminee Tiwari\\\\text_file.txt','w')\n",
    "var1.write(\"On August 15th 1947 that India was declared independent from British colonialism, and the reins of control were handed over to the leaders of the Country’.\")\n",
    "var1.close()\n",
    "\n",
    "with open('E:\\Yaminee Tiwari\\\\text_file.txt', 'r') as sample_file:\n",
    "    text = sample_file.read()\n",
    "    \n",
    "pattern = re.compile(r'\\b(?:January|February|March|April|May|June|July|August|September|October|November|December)\\s+\\d{1,2}(?:st|nd|rd|th)\\s+\\d{4}\\b')    \n",
    "output_text= pattern.findall(text)\n",
    "\n",
    "for i in output_text:\n",
    "    print('Expected Output-',i)"
   ]
  },
  {
   "cell_type": "markdown",
   "id": "975bce7f",
   "metadata": {},
   "source": [
    "# Question 15- Write a Python program to search some literals strings in a string. \n",
    "Sample text : 'The quick brown fox jumps over the lazy dog.'\n",
    "Searched words : 'fox', 'dog', 'horse'\n"
   ]
  },
  {
   "cell_type": "code",
   "execution_count": 61,
   "id": "6e0be741",
   "metadata": {},
   "outputs": [
    {
     "name": "stdout",
     "output_type": "stream",
     "text": [
      "<re.Match object; span=(16, 19), match='fox'>\n",
      "<re.Match object; span=(40, 43), match='dog'>\n",
      "<re.Match object; span=(78, 83), match='horse'>\n",
      "None\n"
     ]
    }
   ],
   "source": [
    "sample_text = \"The quick brown fox jumps over the lazy dog.' Searched words : 'fox', 'dog', 'horse\"\n",
    "search_patterns = [\"fox\", \"dog\", \"horse\",\"1254\"]\n",
    "\n",
    "def fun_check(input_text):\n",
    "    for pattern in search_patterns:\n",
    "        match = re.search(pattern, input_text)\n",
    "        print(match)\n",
    "fun_check(sample_text)        "
   ]
  },
  {
   "cell_type": "markdown",
   "id": "29004b85",
   "metadata": {},
   "source": [
    "# Question 16- Write a Python program to search a literals string in a string and also find the location within the original string where the pattern occurs\n",
    "Sample text : 'The quick brown fox jumps over the lazy dog.'\n",
    "Searched words : 'fox'\n"
   ]
  },
  {
   "cell_type": "code",
   "execution_count": 63,
   "id": "8cca5c05",
   "metadata": {},
   "outputs": [
    {
     "name": "stdout",
     "output_type": "stream",
     "text": [
      "'fox' found at position 16 in the text.\n"
     ]
    }
   ],
   "source": [
    "sample_text = \"The quick brown fox jumps over the lazy dog.' Searched words : 'fox', 'dog', 'horse\"\n",
    "search_text= 'fox'\n",
    "match = re.search(search_text, sample_text)\n",
    "\n",
    "if match:\n",
    "    print(f\"'{search_text}' found at position {match.start()} in the text.\")\n",
    "else:\n",
    "    print(f\"'{search_text}' not found in the text.\")"
   ]
  },
  {
   "cell_type": "markdown",
   "id": "bbf88b0c",
   "metadata": {},
   "source": [
    "# Question 17- Write a Python program to find the substrings within a string.\n",
    "Sample text : 'Python exercises, PHP exercises, C# exercises'\n",
    "\n",
    "Pattern : 'exercises'.\n"
   ]
  },
  {
   "cell_type": "code",
   "execution_count": 55,
   "id": "6c89cd86",
   "metadata": {},
   "outputs": [
    {
     "name": "stdout",
     "output_type": "stream",
     "text": [
      "<re.Match object; span=(7, 16), match='exercises'>\n",
      "<re.Match object; span=(22, 31), match='exercises'>\n",
      "<re.Match object; span=(36, 45), match='exercises'>\n"
     ]
    }
   ],
   "source": [
    "sample_text = \"Python exercises, PHP exercises, C# exercises\"\n",
    "search_patterns = 'exercises'\n",
    "\n",
    "def fun_substr_check(input_text):\n",
    "    matches = re.finditer(search_patterns, input_text)\n",
    "    for match in matches:\n",
    "        print(match)\n",
    "\n",
    "fun_substr_check(sample_text)"
   ]
  },
  {
   "cell_type": "markdown",
   "id": "d9db0cb1",
   "metadata": {},
   "source": [
    "# Question 18- Write a Python program to find the occurrence and position of the substrings within a string.\n"
   ]
  },
  {
   "cell_type": "code",
   "execution_count": 72,
   "id": "6cb2b5b0",
   "metadata": {},
   "outputs": [
    {
     "name": "stdout",
     "output_type": "stream",
     "text": [
      "Occurrence 1 <re.Match object; span=(7, 16), match='exercises'>\n",
      "Occurrence 2 <re.Match object; span=(22, 31), match='exercises'>\n",
      "Occurrence 3 <re.Match object; span=(36, 45), match='exercises'>\n"
     ]
    }
   ],
   "source": [
    "sample_text = \"Python exercises, PHP exercises, C# exercises\"\n",
    "search_patterns = 'exercises'\n",
    "def fun_substr_check(input_text):\n",
    "    matches = re.finditer(search_patterns, input_text)\n",
    "    count=0\n",
    "    for match in matches:\n",
    "        count=count+1\n",
    "        print(\"Occurrence\",count,match)\n",
    "\n",
    "fun_substr_check(sample_text)"
   ]
  },
  {
   "cell_type": "markdown",
   "id": "0b652d61",
   "metadata": {},
   "source": [
    "# Question 19- Write a Python program to convert a date of yyyy-mm-dd format to dd-mm-yyyy format.\n"
   ]
  },
  {
   "cell_type": "code",
   "execution_count": 23,
   "id": "31260f24",
   "metadata": {},
   "outputs": [
    {
     "name": "stdout",
     "output_type": "stream",
     "text": [
      "YYYY-MM-DD format=> 2024-01-28\n",
      "DD-MM-YYYY format=> 28-01-2024\n"
     ]
    }
   ],
   "source": [
    "sample_date = '2024-01-28'\n",
    "pattern1 = re.compile(r'(\\d{1,4})-(\\d{1,2})-(\\d{1,2})')\n",
    "pattern2 = r'\\3-\\2-\\1'\n",
    "\n",
    "def fun_date_check(input_date):\n",
    "    print(\"YYYY-MM-DD format=>\",input_date)\n",
    "    match1 = pattern1.sub(pattern2, input_date)\n",
    "    print(\"DD-MM-YYYY format=>\",match1)\n",
    "\n",
    "fun_date_check(sample_date)"
   ]
  },
  {
   "cell_type": "markdown",
   "id": "d5a33a9d",
   "metadata": {},
   "source": [
    "# Question 20- Create a function in python to find all decimal numbers with a precision of 1 or 2 in a string. The use of the re.compile() method is mandatory.\n",
    "\n",
    "Sample Text: \"01.12 0132.123 2.31875 145.8 3.01 27.25 0.25\"\n",
    "\n",
    "Expected Output: ['01.12', '145.8', '3.01', '27.25', '0.25']\n"
   ]
  },
  {
   "cell_type": "code",
   "execution_count": 38,
   "id": "94f6c317",
   "metadata": {},
   "outputs": [
    {
     "name": "stdout",
     "output_type": "stream",
     "text": [
      "['01.12', '145.8', '3.01', '27.25', '0.25']\n"
     ]
    }
   ],
   "source": [
    "def fun_dec_check(input_str):\n",
    "    pattern=re.compile(r'\\b\\d+\\.\\d{1,2}\\b')\n",
    "    deci_str=pattern.findall(input_str)\n",
    "    return deci_str\n",
    "sample_text=\"01.12 0132.123 2.31875 145.8 3.01 27.25 0.25\"\n",
    "output_str=fun_dec_check(sample_text)\n",
    "print(output_str)"
   ]
  },
  {
   "cell_type": "markdown",
   "id": "57653b6f",
   "metadata": {},
   "source": [
    "# Question 21- Write a Python program to separate and print the numbers and their position of a given string"
   ]
  },
  {
   "cell_type": "code",
   "execution_count": 56,
   "id": "f7c217c9",
   "metadata": {},
   "outputs": [
    {
     "name": "stdout",
     "output_type": "stream",
     "text": [
      "Number 12 position <re.Match object; span=(20, 22), match='12'>\n",
      "Number 24 position <re.Match object; span=(41, 43), match='24'>\n",
      "Number 54 position <re.Match object; span=(61, 63), match='54'>\n"
     ]
    }
   ],
   "source": [
    "sample_text = \"Python exercises no 12, PHP exercises no 24, C# exercises no 54\"\n",
    "patterns =re.compile(r'\\d+')\n",
    "def fun_substr_check(input_text):\n",
    "    matches = re.finditer(patterns, input_text)\n",
    "    for match in matches:\n",
    "        print(\"Number\",match.group(),'position',match)\n",
    "\n",
    "fun_substr_check(sample_text)"
   ]
  },
  {
   "cell_type": "markdown",
   "id": "97f4f9ee",
   "metadata": {},
   "source": [
    "# Question 22- Write a regular expression in python program to extract maximum/largest numeric value from a string.\n",
    "Sample Text:  'My marks in each semester are: 947, 896, 926, 524, 734, 950, 642'\n",
    "\n",
    "Expected Output: 950\n"
   ]
  },
  {
   "cell_type": "code",
   "execution_count": 67,
   "id": "bf3ee0bd",
   "metadata": {},
   "outputs": [
    {
     "name": "stdout",
     "output_type": "stream",
     "text": [
      "950\n"
     ]
    }
   ],
   "source": [
    "sample_text='My marks in each semester are: 947, 896, 926, 524, 734, 950, 642'\n",
    "pattern=re.compile(r'\\d+')\n",
    "check=pattern.findall(sample_text)\n",
    "output=max(check)\n",
    "print(output)"
   ]
  },
  {
   "cell_type": "markdown",
   "id": "5c3aa8d4",
   "metadata": {},
   "source": [
    "# Question 23- Create a function in python to insert spaces between words starting with capital letters.\n",
    "Sample Text: “RegularExpressionIsAnImportantTopicInPython\"\n",
    "\n",
    "Expected Output: Regular Expression Is An Important Topic In Python\n"
   ]
  },
  {
   "cell_type": "code",
   "execution_count": 73,
   "id": "ed211828",
   "metadata": {},
   "outputs": [
    {
     "name": "stdout",
     "output_type": "stream",
     "text": [
      " Regular Expression Is An Important Topic In Python\n"
     ]
    }
   ],
   "source": [
    "sample_text=\"RegularExpressionIsAnImportantTopicInPython\"\n",
    "pattern=re.compile(r'([^a-z])')\n",
    "output=pattern.sub(r' \\1',sample_text)\n",
    "print(output)"
   ]
  },
  {
   "cell_type": "markdown",
   "id": "373b6f7e",
   "metadata": {},
   "source": [
    "# Question 24- Python regex to find sequences of one upper case letter followed by lower case letters"
   ]
  },
  {
   "cell_type": "code",
   "execution_count": 80,
   "id": "68624b06",
   "metadata": {},
   "outputs": [
    {
     "name": "stdout",
     "output_type": "stream",
     "text": [
      "['This example ', 'For find out ', 'Sequence of one ', 'Upper ', 'Case ', 'Letter followed ', 'By lower case letters ', 'Regular ', 'Expression ', 'Is ', 'An ', 'Important ', 'Topic ', 'In ', 'Python.']\n"
     ]
    }
   ],
   "source": [
    "def fun_for_seq(input_text):\n",
    "    pattern = re.compile(r'[^a-z][^A-Z]+')\n",
    "    sequences = pattern.findall(input_text)\n",
    "    return sequences\n",
    "\n",
    "sample_text = \"This example For find out Sequence of one Upper Case Letter followed By lower case letters Regular Expression Is An Important Topic In Python.\"\n",
    "output_text = fun_for_seq(sample_text)\n",
    "print(output_text)"
   ]
  },
  {
   "cell_type": "markdown",
   "id": "381bca2c",
   "metadata": {},
   "source": [
    "# Question 25- Write a Python program to remove continuous duplicate words from Sentence using Regular Expression.\n",
    "Sample Text: \"Hello hello world world\"\n",
    "\n",
    "Expected Output: Hello hello world\n"
   ]
  },
  {
   "cell_type": "code",
   "execution_count": 16,
   "id": "c32c01a8",
   "metadata": {},
   "outputs": [
    {
     "name": "stdout",
     "output_type": "stream",
     "text": [
      "Hello hello world\n"
     ]
    }
   ],
   "source": [
    "Test_string= \"Hello hello world world\"\n",
    "text=re.sub(r'\\b(\\w+)( \\1\\b)+', r'\\1',Test_string)\n",
    "print(text)"
   ]
  },
  {
   "cell_type": "markdown",
   "id": "b05a26ad",
   "metadata": {},
   "source": [
    "# Question 26-  Write a python program using RegEx to accept string ending with alphanumeric character."
   ]
  },
  {
   "cell_type": "code",
   "execution_count": 28,
   "id": "bd6a5980",
   "metadata": {},
   "outputs": [
    {
     "name": "stdout",
     "output_type": "stream",
     "text": [
      "Welcome123 ends with an alphanumeric character.\n",
      "Python! ends with an alphanumeric character.\n",
      "World27 ends with an alphanumeric character.\n",
      "54896 ends with an alphanumeric character.\n"
     ]
    }
   ],
   "source": [
    "def fun_for_alph(input_text):\n",
    "    pattern = r'.*\\w\\d+$'\n",
    "    match = re.match(pattern,input_text)\n",
    "    return match is not None\n",
    "sample_text = [\"Welcome123\", \"Python!\", \"World27\", \"54896\"]\n",
    "\n",
    "for i in sample_text:\n",
    "    if fun_for_alph(string):\n",
    "        print(i, \"ends with an alphanumeric character.\")\n",
    "    else:\n",
    "        print(i,\"does not end with an alphanumeric character.\")"
   ]
  },
  {
   "cell_type": "markdown",
   "id": "c5f70799",
   "metadata": {},
   "source": [
    "# Question 27-Write a python program using RegEx to extract the hashtags.\n",
    "Sample Text:  \"\"\"RT @kapil_kausik: #Doltiwal I mean #xyzabc is \"hurt\" by #Demonetization as the same has rendered USELESS <ed><U+00A0><U+00BD><ed><U+00B1><U+0089> \"acquired funds\" No wo\"\"\"\n",
    "    \n",
    "Expected Output: ['#Doltiwal', '#xyzabc', '#Demonetization']\n"
   ]
  },
  {
   "cell_type": "code",
   "execution_count": 19,
   "id": "8dc353ec",
   "metadata": {},
   "outputs": [
    {
     "name": "stdout",
     "output_type": "stream",
     "text": [
      "['#Doltiwal', '#xyzabc', '#Demonetization']\n"
     ]
    }
   ],
   "source": [
    "sample_text=\"\"\"RT @kapil_kausik: #Doltiwal I mean #xyzabc is \"hurt\" by #Demonetization as the same has rendered USELESS <U+00A0><U+00BD><U+00B1><U+0089> \"acquired funds\" No wo\"\"\"\n",
    "pattern=re.compile(r'#\\w+')\n",
    "text=pattern.findall(sample_text)                   \n",
    "print(text)"
   ]
  },
  {
   "cell_type": "markdown",
   "id": "df918dd9",
   "metadata": {},
   "source": [
    "# Question 28- Write a python program using RegEx to remove <U+..> like symbols\n",
    "Check the below sample text, there are strange symbols something of the sort <U+..> all over the place. You need to come up with a general Regex expression that will cover all such symbols.\n",
    "\n",
    "Sample Text: \"@Jags123456 Bharat band on 28??<ed><U+00A0><U+00BD><ed><U+00B8><U+0082>Those who  are protesting #demonetization  are all different party leaders\"\n",
    "\n",
    "Expected Output: @Jags123456 Bharat band on 28??<ed><ed>Those who  are protesting #demonetization  are all different party leaders\n"
   ]
  },
  {
   "cell_type": "code",
   "execution_count": 11,
   "id": "9e37d742",
   "metadata": {},
   "outputs": [
    {
     "name": "stdout",
     "output_type": "stream",
     "text": [
      "@Jags123456 Bharat band on 28??Those who are protesting #demonetization are all different party leaders\n"
     ]
    }
   ],
   "source": [
    "sample_text=\"@Jags123456 Bharat band on 28??<U+00A0><U+00BD><U+00B8><U+0082>Those who are protesting #demonetization are all different party leaders\"\n",
    "pattern=re.compile(r'<U\\+[0-9A-Fa-f]+\\>')\n",
    "text=pattern.sub('',sample_text)                   \n",
    "print(text)\n"
   ]
  },
  {
   "cell_type": "markdown",
   "id": "4a98a95a",
   "metadata": {},
   "source": [
    "# Question 29- Write a python program to extract dates from the text stored in the text file.\n",
    "\n",
    "Sample Text: Ron was born on 12-09-1992 and he was admitted to school 15-12-1999.\n",
    "\n",
    "Note- Store this sample text in the file and then extract dates.\n"
   ]
  },
  {
   "cell_type": "code",
   "execution_count": 31,
   "id": "3e29894b",
   "metadata": {},
   "outputs": [
    {
     "name": "stdout",
     "output_type": "stream",
     "text": [
      "DD-MM-YYYY format => ['12-09-1992', '15-12-1999']\n"
     ]
    }
   ],
   "source": [
    "var=open('E:\\Yaminee Tiwari\\\\sample_text_file.txt','w')\n",
    "var.write(\"Ron was born on 12-09-1992 and he was admitted to school 15-12-1999.\")\n",
    "var.close()\n",
    "\n",
    "with open('E:\\Yaminee Tiwari\\\\sample_text_file.txt', 'r') as sample_text:\n",
    "    text = sample_text.read()\n",
    "\n",
    "pattern1 = re.compile(r'\\b(\\d{1,2})-(\\d{1,2})-(\\d{4})\\b')\n",
    "\n",
    "matches = pattern1.findall(text)\n",
    "formatted_dates = [f\"{match[0]}-{match[1]}-{match[2]}\" for match in matches]\n",
    "\n",
    "print(\"DD-MM-YYYY format =>\", formatted_dates)"
   ]
  },
  {
   "cell_type": "markdown",
   "id": "cacffed0",
   "metadata": {},
   "source": [
    "# Question 30- Create a function in python to remove all words from a string of length between 2 and 4.\n",
    "The use of the re.compile() method is mandatory.\n",
    "\n",
    "Sample Text: \"The following example creates an ArrayList with a capacity of 50 elements. 4 elements are then added to the ArrayList and the ArrayList is trimmed accordingly.\"\n",
    "\n",
    "Expected Output:  following example creates ArrayList a capacity elements. 4 elements added ArrayList ArrayList trimmed accordingly.\n"
   ]
  },
  {
   "cell_type": "code",
   "execution_count": 33,
   "id": "3d930100",
   "metadata": {},
   "outputs": [
    {
     "name": "stdout",
     "output_type": "stream",
     "text": [
      " following example creates  ArrayList  a capacity   elements. 4 elements   added   ArrayList   ArrayList  trimmed accordingly.\n"
     ]
    }
   ],
   "source": [
    "sample_text=\"The following example creates an ArrayList with a capacity of 50 elements. 4 elements are then added to the ArrayList and the ArrayList is trimmed accordingly.\"\n",
    "pattern=re.compile(r'\\b\\w{2,4}\\b')\n",
    "text=pattern.sub('',sample_text)                   \n",
    "print(text)"
   ]
  }
 ],
 "metadata": {
  "kernelspec": {
   "display_name": "Python 3 (ipykernel)",
   "language": "python",
   "name": "python3"
  },
  "language_info": {
   "codemirror_mode": {
    "name": "ipython",
    "version": 3
   },
   "file_extension": ".py",
   "mimetype": "text/x-python",
   "name": "python",
   "nbconvert_exporter": "python",
   "pygments_lexer": "ipython3",
   "version": "3.11.3"
  }
 },
 "nbformat": 4,
 "nbformat_minor": 5
}
